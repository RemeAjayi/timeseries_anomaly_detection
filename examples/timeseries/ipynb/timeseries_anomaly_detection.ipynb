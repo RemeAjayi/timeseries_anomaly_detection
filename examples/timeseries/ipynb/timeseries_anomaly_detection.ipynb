{
  "cells": [
    {
      "cell_type": "markdown",
      "metadata": {
        "id": "view-in-github",
        "colab_type": "text"
      },
      "source": [
        "<a href=\"https://colab.research.google.com/github/RemeAjayi/timeseries_anomaly_detection/blob/main/examples/timeseries/ipynb/timeseries_anomaly_detection.ipynb\" target=\"_parent\"><img src=\"https://colab.research.google.com/assets/colab-badge.svg\" alt=\"Open In Colab\"/></a>"
      ]
    },
    {
      "cell_type": "markdown",
      "metadata": {
        "id": "7J8PS6yvS2x6"
      },
      "source": [
        "# Timeseries anomaly detection using an Autoencoder\n",
        "\n",
        "**Author:** [pavithrasv](https://github.com/pavithrasv)<br>\n",
        "**Date created:** 2020/05/31<br>\n",
        "**Last modified:** 2020/05/31<br>\n",
        "**Description:** Detect anomalies in a timeseries using an Autoencoder."
      ]
    },
    {
      "cell_type": "markdown",
      "metadata": {
        "id": "Xu7QAb9XS2x8"
      },
      "source": [
        "## Introduction\n",
        "\n",
        "This script demonstrates how you can use a reconstruction convolutional\n",
        "autoencoder model to detect anomalies in timeseries data."
      ]
    },
    {
      "cell_type": "markdown",
      "metadata": {
        "id": "_2qUB8B-S2x8"
      },
      "source": [
        "## Setup"
      ]
    },
    {
      "cell_type": "code",
      "source": [
        "!pip install huggingface-hub\n",
        "!pip install gradio"
      ],
      "metadata": {
        "colab": {
          "base_uri": "https://localhost:8080/"
        },
        "id": "rEK0jMAObAd1",
        "outputId": "f7ab2a9f-cf95-4a43-8ec0-240a1ba68b96"
      },
      "execution_count": 2,
      "outputs": [
        {
          "output_type": "stream",
          "name": "stdout",
          "text": [
            "Looking in indexes: https://pypi.org/simple, https://us-python.pkg.dev/colab-wheels/public/simple/\n",
            "Collecting huggingface-hub\n",
            "  Downloading huggingface_hub-0.7.0-py3-none-any.whl (86 kB)\n",
            "\u001b[K     |████████████████████████████████| 86 kB 2.9 MB/s \n",
            "\u001b[?25hRequirement already satisfied: tqdm in /usr/local/lib/python3.7/dist-packages (from huggingface-hub) (4.64.0)\n",
            "Requirement already satisfied: filelock in /usr/local/lib/python3.7/dist-packages (from huggingface-hub) (3.7.0)\n",
            "Collecting pyyaml>=5.1\n",
            "  Downloading PyYAML-6.0-cp37-cp37m-manylinux_2_5_x86_64.manylinux1_x86_64.manylinux_2_12_x86_64.manylinux2010_x86_64.whl (596 kB)\n",
            "\u001b[K     |████████████████████████████████| 596 kB 41.9 MB/s \n",
            "\u001b[?25hRequirement already satisfied: packaging>=20.9 in /usr/local/lib/python3.7/dist-packages (from huggingface-hub) (21.3)\n",
            "Requirement already satisfied: importlib-metadata in /usr/local/lib/python3.7/dist-packages (from huggingface-hub) (4.11.4)\n",
            "Requirement already satisfied: requests in /usr/local/lib/python3.7/dist-packages (from huggingface-hub) (2.23.0)\n",
            "Requirement already satisfied: typing-extensions>=3.7.4.3 in /usr/local/lib/python3.7/dist-packages (from huggingface-hub) (4.2.0)\n",
            "Requirement already satisfied: pyparsing!=3.0.5,>=2.0.2 in /usr/local/lib/python3.7/dist-packages (from packaging>=20.9->huggingface-hub) (3.0.9)\n",
            "Requirement already satisfied: zipp>=0.5 in /usr/local/lib/python3.7/dist-packages (from importlib-metadata->huggingface-hub) (3.8.0)\n",
            "Requirement already satisfied: urllib3!=1.25.0,!=1.25.1,<1.26,>=1.21.1 in /usr/local/lib/python3.7/dist-packages (from requests->huggingface-hub) (1.24.3)\n",
            "Requirement already satisfied: chardet<4,>=3.0.2 in /usr/local/lib/python3.7/dist-packages (from requests->huggingface-hub) (3.0.4)\n",
            "Requirement already satisfied: idna<3,>=2.5 in /usr/local/lib/python3.7/dist-packages (from requests->huggingface-hub) (2.10)\n",
            "Requirement already satisfied: certifi>=2017.4.17 in /usr/local/lib/python3.7/dist-packages (from requests->huggingface-hub) (2022.5.18.1)\n",
            "Installing collected packages: pyyaml, huggingface-hub\n",
            "  Attempting uninstall: pyyaml\n",
            "    Found existing installation: PyYAML 3.13\n",
            "    Uninstalling PyYAML-3.13:\n",
            "      Successfully uninstalled PyYAML-3.13\n",
            "Successfully installed huggingface-hub-0.7.0 pyyaml-6.0\n",
            "Looking in indexes: https://pypi.org/simple, https://us-python.pkg.dev/colab-wheels/public/simple/\n",
            "Collecting gradio\n",
            "  Downloading gradio-3.0.10-py3-none-any.whl (5.1 MB)\n",
            "\u001b[K     |████████████████████████████████| 5.1 MB 5.4 MB/s \n",
            "\u001b[?25hRequirement already satisfied: matplotlib in /usr/local/lib/python3.7/dist-packages (from gradio) (3.2.2)\n",
            "Collecting analytics-python\n",
            "  Downloading analytics_python-1.4.0-py2.py3-none-any.whl (15 kB)\n",
            "Collecting pydub\n",
            "  Downloading pydub-0.25.1-py2.py3-none-any.whl (32 kB)\n",
            "Collecting paramiko\n",
            "  Downloading paramiko-2.11.0-py2.py3-none-any.whl (212 kB)\n",
            "\u001b[K     |████████████████████████████████| 212 kB 46.2 MB/s \n",
            "\u001b[?25hCollecting uvicorn\n",
            "  Downloading uvicorn-0.17.6-py3-none-any.whl (53 kB)\n",
            "\u001b[K     |████████████████████████████████| 53 kB 1.9 MB/s \n",
            "\u001b[?25hCollecting aiohttp\n",
            "  Downloading aiohttp-3.8.1-cp37-cp37m-manylinux_2_5_x86_64.manylinux1_x86_64.manylinux_2_12_x86_64.manylinux2010_x86_64.whl (1.1 MB)\n",
            "\u001b[K     |████████████████████████████████| 1.1 MB 43.4 MB/s \n",
            "\u001b[?25hCollecting pycryptodome\n",
            "  Downloading pycryptodome-3.14.1-cp35-abi3-manylinux2010_x86_64.whl (2.0 MB)\n",
            "\u001b[K     |████████████████████████████████| 2.0 MB 36.0 MB/s \n",
            "\u001b[?25hRequirement already satisfied: requests in /usr/local/lib/python3.7/dist-packages (from gradio) (2.23.0)\n",
            "Collecting orjson\n",
            "  Downloading orjson-3.6.9-cp37-cp37m-manylinux_2_24_x86_64.whl (256 kB)\n",
            "\u001b[K     |████████████████████████████████| 256 kB 56.8 MB/s \n",
            "\u001b[?25hRequirement already satisfied: pandas in /usr/local/lib/python3.7/dist-packages (from gradio) (1.3.5)\n",
            "Requirement already satisfied: Jinja2 in /usr/local/lib/python3.7/dist-packages (from gradio) (2.11.3)\n",
            "Collecting markdown-it-py[linkify,plugins]\n",
            "  Downloading markdown_it_py-2.1.0-py3-none-any.whl (84 kB)\n",
            "\u001b[K     |████████████████████████████████| 84 kB 3.0 MB/s \n",
            "\u001b[?25hRequirement already satisfied: pillow in /usr/local/lib/python3.7/dist-packages (from gradio) (7.1.2)\n",
            "Collecting python-multipart\n",
            "  Downloading python-multipart-0.0.5.tar.gz (32 kB)\n",
            "Requirement already satisfied: numpy in /usr/local/lib/python3.7/dist-packages (from gradio) (1.21.6)\n",
            "Collecting ffmpy\n",
            "  Downloading ffmpy-0.3.0.tar.gz (4.8 kB)\n",
            "Collecting fastapi\n",
            "  Downloading fastapi-0.78.0-py3-none-any.whl (54 kB)\n",
            "\u001b[K     |████████████████████████████████| 54 kB 2.6 MB/s \n",
            "\u001b[?25hCollecting multidict<7.0,>=4.5\n",
            "  Downloading multidict-6.0.2-cp37-cp37m-manylinux_2_17_x86_64.manylinux2014_x86_64.whl (94 kB)\n",
            "\u001b[K     |████████████████████████████████| 94 kB 3.4 MB/s \n",
            "\u001b[?25hCollecting async-timeout<5.0,>=4.0.0a3\n",
            "  Downloading async_timeout-4.0.2-py3-none-any.whl (5.8 kB)\n",
            "Collecting asynctest==0.13.0\n",
            "  Downloading asynctest-0.13.0-py3-none-any.whl (26 kB)\n",
            "Collecting frozenlist>=1.1.1\n",
            "  Downloading frozenlist-1.3.0-cp37-cp37m-manylinux_2_5_x86_64.manylinux1_x86_64.manylinux_2_17_x86_64.manylinux2014_x86_64.whl (144 kB)\n",
            "\u001b[K     |████████████████████████████████| 144 kB 46.2 MB/s \n",
            "\u001b[?25hRequirement already satisfied: typing-extensions>=3.7.4 in /usr/local/lib/python3.7/dist-packages (from aiohttp->gradio) (4.2.0)\n",
            "Requirement already satisfied: attrs>=17.3.0 in /usr/local/lib/python3.7/dist-packages (from aiohttp->gradio) (21.4.0)\n",
            "Collecting yarl<2.0,>=1.0\n",
            "  Downloading yarl-1.7.2-cp37-cp37m-manylinux_2_5_x86_64.manylinux1_x86_64.manylinux_2_12_x86_64.manylinux2010_x86_64.whl (271 kB)\n",
            "\u001b[K     |████████████████████████████████| 271 kB 60.9 MB/s \n",
            "\u001b[?25hCollecting aiosignal>=1.1.2\n",
            "  Downloading aiosignal-1.2.0-py3-none-any.whl (8.2 kB)\n",
            "Requirement already satisfied: charset-normalizer<3.0,>=2.0 in /usr/local/lib/python3.7/dist-packages (from aiohttp->gradio) (2.0.12)\n",
            "Requirement already satisfied: idna>=2.0 in /usr/local/lib/python3.7/dist-packages (from yarl<2.0,>=1.0->aiohttp->gradio) (2.10)\n",
            "Requirement already satisfied: six>=1.5 in /usr/local/lib/python3.7/dist-packages (from analytics-python->gradio) (1.15.0)\n",
            "Collecting backoff==1.10.0\n",
            "  Downloading backoff-1.10.0-py2.py3-none-any.whl (31 kB)\n",
            "Collecting monotonic>=1.5\n",
            "  Downloading monotonic-1.6-py2.py3-none-any.whl (8.2 kB)\n",
            "Requirement already satisfied: python-dateutil>2.1 in /usr/local/lib/python3.7/dist-packages (from analytics-python->gradio) (2.8.2)\n",
            "Requirement already satisfied: urllib3!=1.25.0,!=1.25.1,<1.26,>=1.21.1 in /usr/local/lib/python3.7/dist-packages (from requests->gradio) (1.24.3)\n",
            "Requirement already satisfied: chardet<4,>=3.0.2 in /usr/local/lib/python3.7/dist-packages (from requests->gradio) (3.0.4)\n",
            "Requirement already satisfied: certifi>=2017.4.17 in /usr/local/lib/python3.7/dist-packages (from requests->gradio) (2022.5.18.1)\n",
            "Collecting pydantic!=1.7,!=1.7.1,!=1.7.2,!=1.7.3,!=1.8,!=1.8.1,<2.0.0,>=1.6.2\n",
            "  Downloading pydantic-1.9.1-cp37-cp37m-manylinux_2_17_x86_64.manylinux2014_x86_64.whl (11.1 MB)\n",
            "\u001b[K     |████████████████████████████████| 11.1 MB 39.4 MB/s \n",
            "\u001b[?25hCollecting starlette==0.19.1\n",
            "  Downloading starlette-0.19.1-py3-none-any.whl (63 kB)\n",
            "\u001b[K     |████████████████████████████████| 63 kB 1.3 MB/s \n",
            "\u001b[?25hCollecting anyio<5,>=3.4.0\n",
            "  Downloading anyio-3.6.1-py3-none-any.whl (80 kB)\n",
            "\u001b[K     |████████████████████████████████| 80 kB 6.7 MB/s \n",
            "\u001b[?25hCollecting sniffio>=1.1\n",
            "  Downloading sniffio-1.2.0-py3-none-any.whl (10 kB)\n",
            "Requirement already satisfied: MarkupSafe>=0.23 in /usr/local/lib/python3.7/dist-packages (from Jinja2->gradio) (2.0.1)\n",
            "Collecting mdurl~=0.1\n",
            "  Downloading mdurl-0.1.1-py3-none-any.whl (10 kB)\n",
            "Collecting linkify-it-py~=1.0\n",
            "  Downloading linkify_it_py-1.0.3-py3-none-any.whl (19 kB)\n",
            "Collecting mdit-py-plugins\n",
            "  Downloading mdit_py_plugins-0.3.0-py3-none-any.whl (43 kB)\n",
            "\u001b[K     |████████████████████████████████| 43 kB 1.6 MB/s \n",
            "\u001b[?25hCollecting uc-micro-py\n",
            "  Downloading uc_micro_py-1.0.1-py3-none-any.whl (6.2 kB)\n",
            "Requirement already satisfied: kiwisolver>=1.0.1 in /usr/local/lib/python3.7/dist-packages (from matplotlib->gradio) (1.4.2)\n",
            "Requirement already satisfied: cycler>=0.10 in /usr/local/lib/python3.7/dist-packages (from matplotlib->gradio) (0.11.0)\n",
            "Requirement already satisfied: pyparsing!=2.0.4,!=2.1.2,!=2.1.6,>=2.0.1 in /usr/local/lib/python3.7/dist-packages (from matplotlib->gradio) (3.0.9)\n",
            "Requirement already satisfied: pytz>=2017.3 in /usr/local/lib/python3.7/dist-packages (from pandas->gradio) (2022.1)\n",
            "Collecting cryptography>=2.5\n",
            "  Downloading cryptography-37.0.2-cp36-abi3-manylinux_2_24_x86_64.whl (4.0 MB)\n",
            "\u001b[K     |████████████████████████████████| 4.0 MB 34.0 MB/s \n",
            "\u001b[?25hCollecting pynacl>=1.0.1\n",
            "  Downloading PyNaCl-1.5.0-cp36-abi3-manylinux_2_17_x86_64.manylinux2014_x86_64.manylinux_2_24_x86_64.whl (856 kB)\n",
            "\u001b[K     |████████████████████████████████| 856 kB 45.3 MB/s \n",
            "\u001b[?25hCollecting bcrypt>=3.1.3\n",
            "  Downloading bcrypt-3.2.2-cp36-abi3-manylinux_2_17_x86_64.manylinux2014_x86_64.manylinux_2_24_x86_64.whl (62 kB)\n",
            "\u001b[K     |████████████████████████████████| 62 kB 869 kB/s \n",
            "\u001b[?25hRequirement already satisfied: cffi>=1.1 in /usr/local/lib/python3.7/dist-packages (from bcrypt>=3.1.3->paramiko->gradio) (1.15.0)\n",
            "Requirement already satisfied: pycparser in /usr/local/lib/python3.7/dist-packages (from cffi>=1.1->bcrypt>=3.1.3->paramiko->gradio) (2.21)\n",
            "Requirement already satisfied: click>=7.0 in /usr/local/lib/python3.7/dist-packages (from uvicorn->gradio) (7.1.2)\n",
            "Collecting asgiref>=3.4.0\n",
            "  Downloading asgiref-3.5.2-py3-none-any.whl (22 kB)\n",
            "Collecting h11>=0.8\n",
            "  Downloading h11-0.13.0-py3-none-any.whl (58 kB)\n",
            "\u001b[K     |████████████████████████████████| 58 kB 5.3 MB/s \n",
            "\u001b[?25hBuilding wheels for collected packages: ffmpy, python-multipart\n",
            "  Building wheel for ffmpy (setup.py) ... \u001b[?25l\u001b[?25hdone\n",
            "  Created wheel for ffmpy: filename=ffmpy-0.3.0-py3-none-any.whl size=4712 sha256=4807da40790ed5de9883f69d98341b5954c381e146839a25cdcd400e383bc8d7\n",
            "  Stored in directory: /root/.cache/pip/wheels/13/e4/6c/e8059816e86796a597c6e6b0d4c880630f51a1fcfa0befd5e6\n",
            "  Building wheel for python-multipart (setup.py) ... \u001b[?25l\u001b[?25hdone\n",
            "  Created wheel for python-multipart: filename=python_multipart-0.0.5-py3-none-any.whl size=31678 sha256=4143445182fa28fe52283732549dd3bcdd04dd2914454cb9dcf34f5548c13ffb\n",
            "  Stored in directory: /root/.cache/pip/wheels/2c/41/7c/bfd1c180534ffdcc0972f78c5758f89881602175d48a8bcd2c\n",
            "Successfully built ffmpy python-multipart\n",
            "Installing collected packages: sniffio, mdurl, uc-micro-py, multidict, markdown-it-py, frozenlist, anyio, yarl, starlette, pynacl, pydantic, monotonic, mdit-py-plugins, linkify-it-py, h11, cryptography, bcrypt, backoff, asynctest, async-timeout, asgiref, aiosignal, uvicorn, python-multipart, pydub, pycryptodome, paramiko, orjson, ffmpy, fastapi, analytics-python, aiohttp, gradio\n",
            "Successfully installed aiohttp-3.8.1 aiosignal-1.2.0 analytics-python-1.4.0 anyio-3.6.1 asgiref-3.5.2 async-timeout-4.0.2 asynctest-0.13.0 backoff-1.10.0 bcrypt-3.2.2 cryptography-37.0.2 fastapi-0.78.0 ffmpy-0.3.0 frozenlist-1.3.0 gradio-3.0.10 h11-0.13.0 linkify-it-py-1.0.3 markdown-it-py-2.1.0 mdit-py-plugins-0.3.0 mdurl-0.1.1 monotonic-1.6 multidict-6.0.2 orjson-3.6.9 paramiko-2.11.0 pycryptodome-3.14.1 pydantic-1.9.1 pydub-0.25.1 pynacl-1.5.0 python-multipart-0.0.5 sniffio-1.2.0 starlette-0.19.1 uc-micro-py-1.0.1 uvicorn-0.17.6 yarl-1.7.2\n"
          ]
        }
      ]
    },
    {
      "cell_type": "code",
      "execution_count": 3,
      "metadata": {
        "id": "l8azYWteS2x8"
      },
      "outputs": [],
      "source": [
        "import numpy as np\n",
        "import pandas as pd\n",
        "import tensorflow as tf\n",
        "import gradio as gr\n",
        "from tensorflow import keras\n",
        "from tensorflow.keras import layers\n",
        "from matplotlib import pyplot as plt"
      ]
    },
    {
      "cell_type": "markdown",
      "metadata": {
        "id": "Q25uPA63S2x9"
      },
      "source": [
        "## Load the data\n",
        "\n",
        "We will use the [Numenta Anomaly Benchmark(NAB)](\n",
        "https://www.kaggle.com/boltzmannbrain/nab) dataset. It provides artifical\n",
        "timeseries data containing labeled anomalous periods of behavior. Data are\n",
        "ordered, timestamped, single-valued metrics.\n",
        "\n",
        "We will use the `art_daily_small_noise.csv` file for training and the\n",
        "`art_daily_jumpsup.csv` file for testing. The simplicity of this dataset\n",
        "allows us to demonstrate anomaly detection effectively."
      ]
    },
    {
      "cell_type": "code",
      "execution_count": 4,
      "metadata": {
        "id": "0Y9-TisES2x9"
      },
      "outputs": [],
      "source": [
        "master_url_root = \"https://raw.githubusercontent.com/numenta/NAB/master/data/\"\n",
        "\n",
        "df_small_noise_url_suffix = \"artificialNoAnomaly/art_daily_small_noise.csv\"\n",
        "df_small_noise_url = master_url_root + df_small_noise_url_suffix\n",
        "df_small_noise = pd.read_csv(\n",
        "    df_small_noise_url, parse_dates=True, index_col=\"timestamp\"\n",
        ")\n",
        "\n",
        "df_daily_jumpsup_url_suffix = \"artificialWithAnomaly/art_daily_jumpsup.csv\"\n",
        "df_daily_jumpsup_url = master_url_root + df_daily_jumpsup_url_suffix\n",
        "df_daily_jumpsup = pd.read_csv(\n",
        "    df_daily_jumpsup_url, parse_dates=True, index_col=\"timestamp\"\n",
        ")"
      ]
    },
    {
      "cell_type": "markdown",
      "metadata": {
        "id": "FKjgauiYS2x-"
      },
      "source": [
        "## Quick look at the data"
      ]
    },
    {
      "cell_type": "code",
      "execution_count": 5,
      "metadata": {
        "id": "YLl-xI4WS2x-",
        "colab": {
          "base_uri": "https://localhost:8080/"
        },
        "outputId": "5aa91b28-37d7-4693-bd62-f778693ae555"
      },
      "outputs": [
        {
          "output_type": "stream",
          "name": "stdout",
          "text": [
            "                         value\n",
            "timestamp                     \n",
            "2014-04-01 00:00:00  18.324919\n",
            "2014-04-01 00:05:00  21.970327\n",
            "2014-04-01 00:10:00  18.624806\n",
            "2014-04-01 00:15:00  21.953684\n",
            "2014-04-01 00:20:00  21.909120\n",
            "                         value\n",
            "timestamp                     \n",
            "2014-04-01 00:00:00  19.761252\n",
            "2014-04-01 00:05:00  20.500833\n",
            "2014-04-01 00:10:00  19.961641\n",
            "2014-04-01 00:15:00  21.490266\n",
            "2014-04-01 00:20:00  20.187739\n"
          ]
        }
      ],
      "source": [
        "print(df_small_noise.head())\n",
        "\n",
        "print(df_daily_jumpsup.head())"
      ]
    },
    {
      "cell_type": "markdown",
      "metadata": {
        "id": "k8oIMq1sS2x-"
      },
      "source": [
        "## Visualize the data\n",
        "### Timeseries data without anomalies\n",
        "\n",
        "We will use the following data for training."
      ]
    },
    {
      "cell_type": "code",
      "execution_count": 6,
      "metadata": {
        "id": "Emi9dDBwS2x_",
        "colab": {
          "base_uri": "https://localhost:8080/",
          "height": 303
        },
        "outputId": "d628cb5d-d174-4a49-e33f-6cdcbe3e0662"
      },
      "outputs": [
        {
          "output_type": "display_data",
          "data": {
            "text/plain": [
              "<Figure size 432x288 with 1 Axes>"
            ],
            "image/png": "[encoded data removed]"
          },
          "metadata": {
            "needs_background": "light"
          }
        }
      ],
      "source": [
        "fig, ax = plt.subplots()\n",
        "df_small_noise.plot(legend=False, ax=ax)\n",
        "plt.show()"
      ]
    },
    {
      "cell_type": "markdown",
      "metadata": {
        "id": "-GVk61m7S2x_"
      },
      "source": [
        "### Timeseries data with anomalies\n",
        "\n",
        "We will use the following data for testing and see if the sudden jump up in the\n",
        "data is detected as an anomaly."
      ]
    },
    {
      "cell_type": "code",
      "execution_count": 7,
      "metadata": {
        "id": "uOS39aGfS2x_",
        "colab": {
          "base_uri": "https://localhost:8080/",
          "height": 303
        },
        "outputId": "cdc27653-86e6-4f3a-da5b-14b9b25ff59f"
      },
      "outputs": [
        {
          "output_type": "display_data",
          "data": {
            "text/plain": [
              "<Figure size 432x288 with 1 Axes>"
            ],
            "image/png": "[encoded data removed]"
          },
          "metadata": {
            "needs_background": "light"
          }
        }
      ],
      "source": [
        "fig, ax = plt.subplots()\n",
        "df_daily_jumpsup.plot(legend=False, ax=ax)\n",
        "plt.show()"
      ]
    },
    {
      "cell_type": "markdown",
      "metadata": {
        "id": "aoKivB-7S2x_"
      },
      "source": [
        "## Prepare training data\n",
        "\n",
        "Get data values from the training timeseries data file and normalize the\n",
        "`value` data. We have a `value` for every 5 mins for 14 days.\n",
        "\n",
        "-   24 * 60 / 5 = **288 timesteps per day**\n",
        "-   288 * 14 = **4032 data points** in total"
      ]
    },
    {
      "cell_type": "code",
      "execution_count": 8,
      "metadata": {
        "id": "PMEZhyhaS2x_",
        "colab": {
          "base_uri": "https://localhost:8080/"
        },
        "outputId": "96fb1455-512b-455a-b1c3-e7e97af4377c"
      },
      "outputs": [
        {
          "output_type": "stream",
          "name": "stdout",
          "text": [
            "Number of training samples: 4032\n"
          ]
        }
      ],
      "source": [
        "\n",
        "# Normalize and save the mean and std we get,\n",
        "# for normalizing test data.\n",
        "training_mean = df_small_noise.mean()\n",
        "training_std = df_small_noise.std()\n",
        "df_training_value = (df_small_noise - training_mean) / training_std\n",
        "print(\"Number of training samples:\", len(df_training_value))"
      ]
    },
    {
      "cell_type": "markdown",
      "metadata": {
        "id": "_Tj-N00qS2yA"
      },
      "source": [
        "### Create sequences\n",
        "Create sequences combining `TIME_STEPS` contiguous data values from the\n",
        "training data."
      ]
    },
    {
      "cell_type": "code",
      "execution_count": 9,
      "metadata": {
        "id": "EgwKTTVQS2yA",
        "colab": {
          "base_uri": "https://localhost:8080/"
        },
        "outputId": "0ff06afa-8232-4d2b-a23d-2e24ba262ca6"
      },
      "outputs": [
        {
          "output_type": "stream",
          "name": "stdout",
          "text": [
            "Training input shape:  (3745, 288, 1)\n"
          ]
        }
      ],
      "source": [
        "TIME_STEPS = 288\n",
        "\n",
        "# Generated training sequences for use in the model.\n",
        "def create_sequences(values, time_steps=TIME_STEPS):\n",
        "    output = []\n",
        "    for i in range(len(values) - time_steps + 1):\n",
        "        output.append(values[i : (i + time_steps)])\n",
        "    return np.stack(output)\n",
        "\n",
        "\n",
        "x_train = create_sequences(df_training_value.values)\n",
        "print(\"Training input shape: \", x_train.shape)"
      ]
    },
    {
      "cell_type": "markdown",
      "metadata": {
        "id": "vzkJB9-nS2yA"
      },
      "source": [
        "## Build a model\n",
        "\n",
        "We will build a convolutional reconstruction autoencoder model. The model will\n",
        "take input of shape `(batch_size, sequence_length, num_features)` and return\n",
        "output of the same shape. In this case, `sequence_length` is 288 and\n",
        "`num_features` is 1."
      ]
    },
    {
      "cell_type": "code",
      "execution_count": 10,
      "metadata": {
        "id": "krEe3wOxS2yA",
        "colab": {
          "base_uri": "https://localhost:8080/"
        },
        "outputId": "dbeaf97e-d406-4096-ff1b-5b04bc368212"
      },
      "outputs": [
        {
          "output_type": "stream",
          "name": "stdout",
          "text": [
            "Model: \"sequential\"\n",
            "_________________________________________________________________\n",
            " Layer (type)                Output Shape              Param #   \n",
            "=================================================================\n",
            " conv1d (Conv1D)             (None, 144, 32)           256       \n",
            "                                                                 \n",
            " dropout (Dropout)           (None, 144, 32)           0         \n",
            "                                                                 \n",
            " conv1d_1 (Conv1D)           (None, 72, 16)            3600      \n",
            "                                                                 \n",
            " conv1d_transpose (Conv1DTra  (None, 144, 16)          1808      \n",
            " nspose)                                                         \n",
            "                                                                 \n",
            " dropout_1 (Dropout)         (None, 144, 16)           0         \n",
            "                                                                 \n",
            " conv1d_transpose_1 (Conv1DT  (None, 288, 32)          3616      \n",
            " ranspose)                                                       \n",
            "                                                                 \n",
            " conv1d_transpose_2 (Conv1DT  (None, 288, 1)           225       \n",
            " ranspose)                                                       \n",
            "                                                                 \n",
            "=================================================================\n",
            "Total params: 9,505\n",
            "Trainable params: 9,505\n",
            "Non-trainable params: 0\n",
            "_________________________________________________________________\n"
          ]
        }
      ],
      "source": [
        "model = keras.Sequential(\n",
        "    [\n",
        "        layers.Input(shape=(x_train.shape[1], x_train.shape[2])),\n",
        "        layers.Conv1D(\n",
        "            filters=32, kernel_size=7, padding=\"same\", strides=2, activation=\"relu\"\n",
        "        ),\n",
        "        layers.Dropout(rate=0.2),\n",
        "        layers.Conv1D(\n",
        "            filters=16, kernel_size=7, padding=\"same\", strides=2, activation=\"relu\"\n",
        "        ),\n",
        "        layers.Conv1DTranspose(\n",
        "            filters=16, kernel_size=7, padding=\"same\", strides=2, activation=\"relu\"\n",
        "        ),\n",
        "        layers.Dropout(rate=0.2),\n",
        "        layers.Conv1DTranspose(\n",
        "            filters=32, kernel_size=7, padding=\"same\", strides=2, activation=\"relu\"\n",
        "        ),\n",
        "        layers.Conv1DTranspose(filters=1, kernel_size=7, padding=\"same\"),\n",
        "    ]\n",
        ")\n",
        "model.compile(optimizer=keras.optimizers.Adam(learning_rate=0.001), loss=\"mse\")\n",
        "model.summary()"
      ]
    },
    {
      "cell_type": "markdown",
      "metadata": {
        "id": "tD0nw2IPS2yA"
      },
      "source": [
        "## Train the model\n",
        "\n",
        "Please note that we are using `x_train` as both the input and the target\n",
        "since this is a reconstruction model."
      ]
    },
    {
      "cell_type": "code",
      "execution_count": 11,
      "metadata": {
        "id": "GS-iQlGNS2yA",
        "colab": {
          "base_uri": "https://localhost:8080/"
        },
        "outputId": "c488888d-4d86-4308-f796-7866492df078"
      },
      "outputs": [
        {
          "output_type": "stream",
          "name": "stdout",
          "text": [
            "Epoch 1/50\n",
            "27/27 [==============================] - 7s 183ms/step - loss: 0.5447 - val_loss: 0.0996\n",
            "Epoch 2/50\n",
            "27/27 [==============================] - 4s 156ms/step - loss: 0.0878 - val_loss: 0.0449\n",
            "Epoch 3/50\n",
            "27/27 [==============================] - 4s 155ms/step - loss: 0.0615 - val_loss: 0.0392\n",
            "Epoch 4/50\n",
            "27/27 [==============================] - 5s 177ms/step - loss: 0.0518 - val_loss: 0.0326\n",
            "Epoch 5/50\n",
            "27/27 [==============================] - 6s 205ms/step - loss: 0.0441 - val_loss: 0.0299\n",
            "Epoch 6/50\n",
            "27/27 [==============================] - 6s 215ms/step - loss: 0.0382 - val_loss: 0.0274\n",
            "Epoch 7/50\n",
            "27/27 [==============================] - 6s 208ms/step - loss: 0.0336 - val_loss: 0.0253\n",
            "Epoch 8/50\n",
            "27/27 [==============================] - 6s 211ms/step - loss: 0.0304 - val_loss: 0.0233\n",
            "Epoch 9/50\n",
            "27/27 [==============================] - 5s 183ms/step - loss: 0.0282 - val_loss: 0.0222\n",
            "Epoch 10/50\n",
            "27/27 [==============================] - 5s 173ms/step - loss: 0.0262 - val_loss: 0.0228\n",
            "Epoch 11/50\n",
            "27/27 [==============================] - 4s 156ms/step - loss: 0.0247 - val_loss: 0.0225\n",
            "Epoch 12/50\n",
            "27/27 [==============================] - 5s 175ms/step - loss: 0.0234 - val_loss: 0.0244\n",
            "Epoch 13/50\n",
            "27/27 [==============================] - 5s 172ms/step - loss: 0.0225 - val_loss: 0.0245\n",
            "Epoch 14/50\n",
            "27/27 [==============================] - 4s 163ms/step - loss: 0.0215 - val_loss: 0.0243\n"
          ]
        }
      ],
      "source": [
        "history = model.fit(\n",
        "    x_train,\n",
        "    x_train,\n",
        "    epochs=50,\n",
        "    batch_size=128,\n",
        "    validation_split=0.1,\n",
        "    callbacks=[\n",
        "        keras.callbacks.EarlyStopping(monitor=\"val_loss\", patience=5, mode=\"min\")\n",
        "    ],\n",
        ")"
      ]
    },
    {
      "cell_type": "markdown",
      "metadata": {
        "id": "wZdiqM_qS2yA"
      },
      "source": [
        "Let's plot training and validation loss to see how the training went."
      ]
    },
    {
      "cell_type": "code",
      "execution_count": 12,
      "metadata": {
        "id": "fl1XeuPpS2yB",
        "colab": {
          "base_uri": "https://localhost:8080/",
          "height": 265
        },
        "outputId": "38d1df84-4d0e-4c1f-c57e-08281e791ca4"
      },
      "outputs": [
        {
          "output_type": "display_data",
          "data": {
            "text/plain": [
              "<Figure size 432x288 with 1 Axes>"
            ],
            "image/png": "[encoded data removed]"
          },
          "metadata": {
            "needs_background": "light"
          }
        }
      ],
      "source": [
        "plt.plot(history.history[\"loss\"], label=\"Training Loss\")\n",
        "plt.plot(history.history[\"val_loss\"], label=\"Validation Loss\")\n",
        "plt.legend()\n",
        "plt.show()"
      ]
    },
    {
      "cell_type": "markdown",
      "metadata": {
        "id": "k98mUUEtS2yB"
      },
      "source": [
        "## Detecting anomalies\n",
        "\n",
        "We will detect anomalies by determining how well our model can reconstruct\n",
        "the input data.\n",
        "\n",
        "\n",
        "1.   Find MAE loss on training samples.\n",
        "2.   Find max MAE loss value. This is the worst our model has performed trying\n",
        "to reconstruct a sample. We will make this the `threshold` for anomaly\n",
        "detection.\n",
        "3.   If the reconstruction loss for a sample is greater than this `threshold`\n",
        "value then we can infer that the model is seeing a pattern that it isn't\n",
        "familiar with. We will label this sample as an `anomaly`.\n"
      ]
    },
    {
      "cell_type": "code",
      "execution_count": 13,
      "metadata": {
        "id": "2a5y-NX8S2yB",
        "colab": {
          "base_uri": "https://localhost:8080/",
          "height": 297
        },
        "outputId": "01f5d41b-e66a-4126-d734-75690b07612b"
      },
      "outputs": [
        {
          "output_type": "display_data",
          "data": {
            "text/plain": [
              "<Figure size 432x288 with 1 Axes>"
            ],
            "image/png": "[encoded data removed]"
          },
          "metadata": {
            "needs_background": "light"
          }
        },
        {
          "output_type": "stream",
          "name": "stdout",
          "text": [
            "Reconstruction error threshold:  0.14172132579136795\n"
          ]
        }
      ],
      "source": [
        "# Get train MAE loss.\n",
        "x_train_pred = model.predict(x_train)\n",
        "train_mae_loss = np.mean(np.abs(x_train_pred - x_train), axis=1)\n",
        "\n",
        "plt.hist(train_mae_loss, bins=50)\n",
        "plt.xlabel(\"Train MAE loss\")\n",
        "plt.ylabel(\"No of samples\")\n",
        "plt.show()\n",
        "\n",
        "# Get reconstruction loss threshold.\n",
        "threshold = np.max(train_mae_loss)\n",
        "print(\"Reconstruction error threshold: \", threshold)"
      ]
    },
    {
      "cell_type": "markdown",
      "metadata": {
        "id": "BHWf337ES2yB"
      },
      "source": [
        "### Compare recontruction\n",
        "\n",
        "Just for fun, let's see how our model has recontructed the first sample.\n",
        "This is the 288 timesteps from day 1 of our training dataset."
      ]
    },
    {
      "cell_type": "code",
      "execution_count": 14,
      "metadata": {
        "id": "2Wr86irpS2yB",
        "colab": {
          "base_uri": "https://localhost:8080/",
          "height": 265
        },
        "outputId": "41405bc9-08e8-4f31-92ba-fea40f091432"
      },
      "outputs": [
        {
          "output_type": "display_data",
          "data": {
            "text/plain": [
              "<Figure size 432x288 with 1 Axes>"
            ],
            "image/png": "[encoded data removed]"
          },
          "metadata": {
            "needs_background": "light"
          }
        }
      ],
      "source": [
        "# Checking how the first sequence is learnt\n",
        "plt.plot(x_train[0])\n",
        "plt.plot(x_train_pred[0])\n",
        "plt.show()"
      ]
    },
    {
      "cell_type": "markdown",
      "metadata": {
        "id": "y9TOCEK_S2yB"
      },
      "source": [
        "### Prepare test data"
      ]
    },
    {
      "cell_type": "code",
      "execution_count": 15,
      "metadata": {
        "id": "hB6Lm9rWS2yB",
        "colab": {
          "base_uri": "https://localhost:8080/",
          "height": 1000
        },
        "outputId": "c7a00d81-ef46-4216-cde9-f44078455802"
      },
      "outputs": [
        {
          "output_type": "display_data",
          "data": {
            "text/plain": [
              "<Figure size 432x288 with 1 Axes>"
            ],
            "image/png": "[encoded data removed]"
          },
          "metadata": {
            "needs_background": "light"
          }
        },
        {
          "output_type": "stream",
          "name": "stdout",
          "text": [
            "Test input shape:  (3745, 288, 1)\n"
          ]
        },
        {
          "output_type": "display_data",
          "data": {
            "text/plain": [
              "<Figure size 432x288 with 1 Axes>"
            ],
            "image/png": "[encoded data removed]"
          },
          "metadata": {
            "needs_background": "light"
          }
        },
        {
          "output_type": "stream",
          "name": "stdout",
          "text": [
            "Number of anomaly samples:  397\n",
            "Indices of anomaly samples:  (array([1659, 2697, 2701, 2702, 2703, 2704, 2705, 2706, 2707, 2708, 2709,\n",
            "       2710, 2711, 2712, 2713, 2714, 2715, 2716, 2717, 2718, 2719, 2720,\n",
            "       2721, 2722, 2723, 2724, 2725, 2726, 2727, 2728, 2729, 2730, 2731,\n",
            "       2732, 2733, 2734, 2735, 2736, 2737, 2738, 2739, 2740, 2741, 2742,\n",
            "       2743, 2744, 2745, 2746, 2747, 2748, 2749, 2750, 2751, 2752, 2753,\n",
            "       2754, 2755, 2756, 2757, 2758, 2759, 2760, 2761, 2762, 2763, 2764,\n",
            "       2765, 2766, 2767, 2768, 2769, 2770, 2771, 2772, 2773, 2774, 2775,\n",
            "       2776, 2777, 2778, 2779, 2780, 2781, 2782, 2783, 2784, 2785, 2786,\n",
            "       2787, 2788, 2789, 2790, 2791, 2792, 2793, 2794, 2795, 2796, 2797,\n",
            "       2798, 2799, 2800, 2801, 2802, 2803, 2804, 2805, 2806, 2807, 2808,\n",
            "       2809, 2810, 2811, 2812, 2813, 2814, 2815, 2816, 2817, 2818, 2819,\n",
            "       2820, 2821, 2822, 2823, 2824, 2825, 2826, 2827, 2828, 2829, 2830,\n",
            "       2831, 2832, 2833, 2834, 2835, 2836, 2837, 2838, 2839, 2840, 2841,\n",
            "       2842, 2843, 2844, 2845, 2846, 2847, 2848, 2849, 2850, 2851, 2852,\n",
            "       2853, 2854, 2855, 2856, 2857, 2858, 2859, 2860, 2861, 2862, 2863,\n",
            "       2864, 2865, 2866, 2867, 2868, 2869, 2870, 2871, 2872, 2873, 2874,\n",
            "       2875, 2876, 2877, 2878, 2879, 2880, 2881, 2882, 2883, 2884, 2885,\n",
            "       2886, 2887, 2888, 2889, 2890, 2891, 2892, 2893, 2894, 2895, 2896,\n",
            "       2897, 2898, 2899, 2900, 2901, 2902, 2903, 2904, 2905, 2906, 2907,\n",
            "       2908, 2909, 2910, 2911, 2912, 2913, 2914, 2915, 2916, 2917, 2918,\n",
            "       2919, 2920, 2921, 2922, 2923, 2924, 2925, 2926, 2927, 2928, 2929,\n",
            "       2930, 2931, 2932, 2933, 2934, 2935, 2936, 2937, 2938, 2939, 2940,\n",
            "       2941, 2942, 2943, 2944, 2945, 2946, 2947, 2948, 2949, 2950, 2951,\n",
            "       2952, 2953, 2954, 2955, 2956, 2957, 2958, 2959, 2960, 2961, 2962,\n",
            "       2963, 2964, 2965, 2966, 2967, 2968, 2969, 2970, 2971, 2972, 2973,\n",
            "       2974, 2975, 2976, 2977, 2978, 2979, 2980, 2981, 2982, 2983, 2984,\n",
            "       2985, 2986, 2987, 2988, 2989, 2990, 2991, 2992, 2993, 2994, 2995,\n",
            "       2996, 2997, 2998, 2999, 3000, 3001, 3002, 3003, 3004, 3005, 3006,\n",
            "       3007, 3008, 3009, 3010, 3011, 3012, 3013, 3014, 3015, 3016, 3017,\n",
            "       3018, 3019, 3020, 3021, 3022, 3023, 3024, 3025, 3026, 3027, 3028,\n",
            "       3029, 3030, 3031, 3032, 3033, 3034, 3035, 3036, 3037, 3038, 3039,\n",
            "       3040, 3041, 3042, 3043, 3044, 3045, 3046, 3047, 3048, 3049, 3050,\n",
            "       3051, 3052, 3053, 3054, 3055, 3056, 3057, 3058, 3059, 3060, 3061,\n",
            "       3062, 3063, 3064, 3065, 3066, 3067, 3068, 3069, 3070, 3071, 3072,\n",
            "       3073, 3074, 3075, 3076, 3077, 3078, 3079, 3080, 3081, 3082, 3083,\n",
            "       3084, 3085, 3086, 3087, 3088, 3089, 3090, 3091, 3092, 3093, 3094,\n",
            "       3095]),)\n"
          ]
        }
      ],
      "source": [
        "\n",
        "df_test_value = (df_daily_jumpsup - training_mean) / training_std\n",
        "fig, ax = plt.subplots()\n",
        "df_test_value.plot(legend=False, ax=ax)\n",
        "plt.show()\n",
        "\n",
        "# Create sequences from test values.\n",
        "x_test = create_sequences(df_test_value.values)\n",
        "print(\"Test input shape: \", x_test.shape)\n",
        "\n",
        "# Get test MAE loss.\n",
        "x_test_pred = model.predict(x_test)\n",
        "test_mae_loss = np.mean(np.abs(x_test_pred - x_test), axis=1)\n",
        "test_mae_loss = test_mae_loss.reshape((-1))\n",
        "\n",
        "plt.hist(test_mae_loss, bins=50)\n",
        "plt.xlabel(\"test MAE loss\")\n",
        "plt.ylabel(\"No of samples\")\n",
        "plt.show()\n",
        "\n",
        "# Detect all the samples which are anomalies.\n",
        "anomalies = test_mae_loss > threshold\n",
        "print(\"Number of anomaly samples: \", np.sum(anomalies))\n",
        "print(\"Indices of anomaly samples: \", np.where(anomalies))"
      ]
    },
    {
      "cell_type": "markdown",
      "metadata": {
        "id": "hziuPrDyS2yB"
      },
      "source": [
        "## Plot anomalies\n",
        "\n",
        "We now know the samples of the data which are anomalies. With this, we will\n",
        "find the corresponding `timestamps` from the original test data. We will be\n",
        "using the following method to do that:\n",
        "\n",
        "Let's say time_steps = 3 and we have 10 training values. Our `x_train` will\n",
        "look like this:\n",
        "\n",
        "- 0, 1, 2\n",
        "- 1, 2, 3\n",
        "- 2, 3, 4\n",
        "- 3, 4, 5\n",
        "- 4, 5, 6\n",
        "- 5, 6, 7\n",
        "- 6, 7, 8\n",
        "- 7, 8, 9\n",
        "\n",
        "All except the initial and the final time_steps-1 data values, will appear in\n",
        "`time_steps` number of samples. So, if we know that the samples\n",
        "[(3, 4, 5), (4, 5, 6), (5, 6, 7)] are anomalies, we can say that the data point\n",
        "5 is an anomaly."
      ]
    },
    {
      "cell_type": "code",
      "execution_count": 16,
      "metadata": {
        "id": "fJdjGKctS2yB"
      },
      "outputs": [],
      "source": [
        "# data i is an anomaly if samples [(i - timesteps + 1) to (i)] are anomalies\n",
        "anomalous_data_indices = []\n",
        "for data_idx in range(TIME_STEPS - 1, len(df_test_value) - TIME_STEPS + 1):\n",
        "    if np.all(anomalies[data_idx - TIME_STEPS + 1 : data_idx]):\n",
        "        anomalous_data_indices.append(data_idx)"
      ]
    },
    {
      "cell_type": "markdown",
      "metadata": {
        "id": "4WAa5UwUS2yB"
      },
      "source": [
        "Let's overlay the anomalies on the original test data plot."
      ]
    },
    {
      "cell_type": "code",
      "execution_count": 17,
      "metadata": {
        "id": "Z7vaa86PS2yB",
        "colab": {
          "base_uri": "https://localhost:8080/",
          "height": 303
        },
        "outputId": "d96f1097-c147-438e-d82f-231411bf85d8"
      },
      "outputs": [
        {
          "output_type": "display_data",
          "data": {
            "text/plain": [
              "<Figure size 432x288 with 1 Axes>"
            ],
            "image/png": "[encoded data removed]"
          },
          "metadata": {
            "needs_background": "light"
          }
        }
      ],
      "source": [
        "df_subset = df_daily_jumpsup.iloc[anomalous_data_indices]\n",
        "fig, ax = plt.subplots()\n",
        "df_daily_jumpsup.plot(legend=False, ax=ax)\n",
        "df_subset.plot(legend=False, ax=ax, color=\"r\")\n",
        "plt.show()"
      ]
    },
    {
      "cell_type": "code",
      "source": [
        "# Load the TensorBoard notebook extension\n",
        "%load_ext tensorboard"
      ],
      "metadata": {
        "id": "Sf3Jb0uObzoc"
      },
      "execution_count": 20,
      "outputs": []
    },
    {
      "cell_type": "code",
      "source": [
        "log_dir = \"logs/fit/\"\n",
        "tensorboard_callback = tf.keras.callbacks.TensorBoard(log_dir=log_dir, histogram_freq=1)"
      ],
      "metadata": {
        "id": "uVnDA6q2b0r3"
      },
      "execution_count": 21,
      "outputs": []
    },
    {
      "cell_type": "code",
      "source": [
        "history = model.fit(\n",
        "    x_train,\n",
        "    x_train,\n",
        "    epochs=50,\n",
        "    batch_size=128,\n",
        "    validation_split=0.1,\n",
        "    callbacks=[\n",
        "        keras.callbacks.EarlyStopping(monitor=\"val_loss\", patience=5, mode=\"min\"),\n",
        "        tensorboard_callback\n",
        "    ],\n",
        ")"
      ],
      "metadata": {
        "id": "Qgmi5ARdb6ZQ",
        "outputId": "4da26bd5-acfb-4458-9078-ef64c67ccf41",
        "colab": {
          "base_uri": "https://localhost:8080/"
        }
      },
      "execution_count": 22,
      "outputs": [
        {
          "output_type": "stream",
          "name": "stdout",
          "text": [
            "Epoch 1/50\n",
            "27/27 [==============================] - 4s 152ms/step - loss: 0.0208 - val_loss: 0.0244\n",
            "Epoch 2/50\n",
            "27/27 [==============================] - 4s 156ms/step - loss: 0.0200 - val_loss: 0.0234\n",
            "Epoch 3/50\n",
            "27/27 [==============================] - 4s 144ms/step - loss: 0.0193 - val_loss: 0.0254\n",
            "Epoch 4/50\n",
            "27/27 [==============================] - 4s 142ms/step - loss: 0.0187 - val_loss: 0.0241\n",
            "Epoch 5/50\n",
            "27/27 [==============================] - 4s 144ms/step - loss: 0.0182 - val_loss: 0.0239\n",
            "Epoch 6/50\n",
            "27/27 [==============================] - 4s 137ms/step - loss: 0.0176 - val_loss: 0.0235\n",
            "Epoch 7/50\n",
            "27/27 [==============================] - 4s 144ms/step - loss: 0.0170 - val_loss: 0.0230\n",
            "Epoch 8/50\n",
            "27/27 [==============================] - 4s 157ms/step - loss: 0.0165 - val_loss: 0.0218\n",
            "Epoch 9/50\n",
            "27/27 [==============================] - 4s 142ms/step - loss: 0.0160 - val_loss: 0.0219\n",
            "Epoch 10/50\n",
            "27/27 [==============================] - 4s 142ms/step - loss: 0.0154 - val_loss: 0.0201\n",
            "Epoch 11/50\n",
            "27/27 [==============================] - 4s 143ms/step - loss: 0.0149 - val_loss: 0.0196\n",
            "Epoch 12/50\n",
            "27/27 [==============================] - 4s 145ms/step - loss: 0.0144 - val_loss: 0.0201\n",
            "Epoch 13/50\n",
            "27/27 [==============================] - 4s 139ms/step - loss: 0.0139 - val_loss: 0.0191\n",
            "Epoch 14/50\n",
            "27/27 [==============================] - 4s 135ms/step - loss: 0.0135 - val_loss: 0.0184\n",
            "Epoch 15/50\n",
            "27/27 [==============================] - 3s 95ms/step - loss: 0.0130 - val_loss: 0.0173\n",
            "Epoch 16/50\n",
            "27/27 [==============================] - 3s 93ms/step - loss: 0.0125 - val_loss: 0.0163\n",
            "Epoch 17/50\n",
            "27/27 [==============================] - 3s 98ms/step - loss: 0.0121 - val_loss: 0.0168\n",
            "Epoch 18/50\n",
            "27/27 [==============================] - 3s 94ms/step - loss: 0.0116 - val_loss: 0.0169\n",
            "Epoch 19/50\n",
            "27/27 [==============================] - 3s 95ms/step - loss: 0.0112 - val_loss: 0.0155\n",
            "Epoch 20/50\n",
            "27/27 [==============================] - 2s 90ms/step - loss: 0.0108 - val_loss: 0.0147\n",
            "Epoch 21/50\n",
            "27/27 [==============================] - 3s 95ms/step - loss: 0.0104 - val_loss: 0.0144\n",
            "Epoch 22/50\n",
            "27/27 [==============================] - 3s 95ms/step - loss: 0.0101 - val_loss: 0.0143\n",
            "Epoch 23/50\n",
            "27/27 [==============================] - 3s 94ms/step - loss: 0.0098 - val_loss: 0.0139\n",
            "Epoch 24/50\n",
            "27/27 [==============================] - 3s 94ms/step - loss: 0.0095 - val_loss: 0.0131\n",
            "Epoch 25/50\n",
            "27/27 [==============================] - 3s 98ms/step - loss: 0.0092 - val_loss: 0.0128\n",
            "Epoch 26/50\n",
            "27/27 [==============================] - 3s 95ms/step - loss: 0.0090 - val_loss: 0.0130\n",
            "Epoch 27/50\n",
            "27/27 [==============================] - 3s 93ms/step - loss: 0.0088 - val_loss: 0.0126\n",
            "Epoch 28/50\n",
            "27/27 [==============================] - 2s 92ms/step - loss: 0.0086 - val_loss: 0.0131\n",
            "Epoch 29/50\n",
            "27/27 [==============================] - 3s 95ms/step - loss: 0.0084 - val_loss: 0.0121\n",
            "Epoch 30/50\n",
            "27/27 [==============================] - 3s 94ms/step - loss: 0.0082 - val_loss: 0.0118\n",
            "Epoch 31/50\n",
            "27/27 [==============================] - 2s 92ms/step - loss: 0.0080 - val_loss: 0.0119\n",
            "Epoch 32/50\n",
            "27/27 [==============================] - 2s 91ms/step - loss: 0.0079 - val_loss: 0.0112\n",
            "Epoch 33/50\n",
            "27/27 [==============================] - 3s 95ms/step - loss: 0.0077 - val_loss: 0.0116\n",
            "Epoch 34/50\n",
            "27/27 [==============================] - 3s 94ms/step - loss: 0.0076 - val_loss: 0.0112\n",
            "Epoch 35/50\n",
            "27/27 [==============================] - 2s 92ms/step - loss: 0.0074 - val_loss: 0.0102\n",
            "Epoch 36/50\n",
            "27/27 [==============================] - 2s 92ms/step - loss: 0.0073 - val_loss: 0.0102\n",
            "Epoch 37/50\n",
            "27/27 [==============================] - 3s 93ms/step - loss: 0.0072 - val_loss: 0.0106\n",
            "Epoch 38/50\n",
            "27/27 [==============================] - 3s 96ms/step - loss: 0.0071 - val_loss: 0.0106\n",
            "Epoch 39/50\n",
            "27/27 [==============================] - 3s 95ms/step - loss: 0.0070 - val_loss: 0.0104\n",
            "Epoch 40/50\n",
            "27/27 [==============================] - 3s 93ms/step - loss: 0.0069 - val_loss: 0.0101\n",
            "Epoch 41/50\n",
            "27/27 [==============================] - 3s 96ms/step - loss: 0.0068 - val_loss: 0.0098\n",
            "Epoch 42/50\n",
            "27/27 [==============================] - 2s 92ms/step - loss: 0.0067 - val_loss: 0.0097\n",
            "Epoch 43/50\n",
            "27/27 [==============================] - 3s 95ms/step - loss: 0.0066 - val_loss: 0.0091\n",
            "Epoch 44/50\n",
            "27/27 [==============================] - 2s 91ms/step - loss: 0.0066 - val_loss: 0.0094\n",
            "Epoch 45/50\n",
            "27/27 [==============================] - 3s 96ms/step - loss: 0.0065 - val_loss: 0.0099\n",
            "Epoch 46/50\n",
            "27/27 [==============================] - 3s 95ms/step - loss: 0.0064 - val_loss: 0.0101\n",
            "Epoch 47/50\n",
            "27/27 [==============================] - 2s 92ms/step - loss: 0.0063 - val_loss: 0.0093\n",
            "Epoch 48/50\n",
            "27/27 [==============================] - 3s 113ms/step - loss: 0.0062 - val_loss: 0.0093\n"
          ]
        }
      ]
    },
    {
      "cell_type": "code",
      "source": [
        "from huggingface_hub import notebook_login\n",
        "notebook_login()"
      ],
      "metadata": {
        "colab": {
          "base_uri": "https://localhost:8080/",
          "height": 415,
          "referenced_widgets": [
            "da8a3f8ff25342439abd3abf8f324c02",
            "bf4202772a924862b015bd9f01f6f556",
            "d803c9542e5d4802aea1155f158e07e7",
            "f31157c83e994912aff985dd907769ab",
            "c59bab552b254c71a617283f6edc9164",
            "0938a49a8a3a46fb93af2e8d73a535f6",
            "6d853a48c3c441eb9cd30fc1f4563e34",
            "ab7a6b9ac67c4e21bd403d746b14b94b",
            "6e9afbaa54064a799b1025d3cb54a2c4",
            "4143d098f05c4ace98db3abe8f05620f",
            "ca1cc4f0934942c2a4f21af6603ce863",
            "0e6be3cec43f47ac83d5b053c17889be",
            "4cc7d3247da94f81b493a0b1f25bf8ab",
            "feae8e1a5a9d4f51a0d41a4997b09e4d",
            "65d1aa2f23f64cd19a5e33cc4e2f0499",
            "2ab3363e47674071ace9e82b52893192",
            "693081a44f074612b952dc1adbe8bac7"
          ]
        },
        "id": "sXxgEsWda1N6",
        "outputId": "84c25a3b-bbf1-4e9a-a212-f1f83f63ba47"
      },
      "execution_count": 23,
      "outputs": [
        {
          "output_type": "stream",
          "name": "stdout",
          "text": [
            "Login successful\n",
            "Your token has been saved to /root/.huggingface/token\n",
            "\u001b[1m\u001b[31mAuthenticated through git-credential store but this isn't the helper defined on your machine.\n",
            "You might have to re-authenticate when pushing to the Hugging Face Hub. Run the following command in your terminal in case you want to set this credential helper as the default\n",
            "\n",
            "git config --global credential.helper store\u001b[0m\n"
          ]
        }
      ]
    },
    {
      "cell_type": "code",
      "source": [
        "from huggingface_hub import push_to_hub_keras\n",
        "\n",
        "push_to_hub_keras(model,\n",
        "    \"remeajayi/timeseries-anomaly-detection\",\n",
        "    log_dir = \"./logs/fit\",\n",
        "    tags = [\"structured-data-classification\", \"time-series\", \"anomaly-detection\"]\n",
        ")"
      ],
      "metadata": {
        "colab": {
          "base_uri": "https://localhost:8080/",
          "height": 461
        },
        "id": "EBF7QiG1bKNN",
        "outputId": "9daf7e3f-d9fb-4760-997b-dde30a73bedc"
      },
      "execution_count": 25,
      "outputs": [
        {
          "output_type": "error",
          "ename": "OSError",
          "evalue": "ignored",
          "traceback": [
            "\u001b[0;31m---------------------------------------------------------------------------\u001b[0m",
            "\u001b[0;31mCalledProcessError\u001b[0m                        Traceback (most recent call last)",
            "\u001b[0;32m/usr/local/lib/python3.7/dist-packages/huggingface_hub/repository.py\u001b[0m in \u001b[0;36mgit_pull\u001b[0;34m(self, rebase, lfs)\u001b[0m\n\u001b[1;32m   1024\u001b[0m                     \u001b[0mcommand\u001b[0m\u001b[0;34m,\u001b[0m\u001b[0;34m\u001b[0m\u001b[0;34m\u001b[0m\u001b[0m\n\u001b[0;32m-> 1025\u001b[0;31m                     \u001b[0mself\u001b[0m\u001b[0;34m.\u001b[0m\u001b[0mlocal_dir\u001b[0m\u001b[0;34m,\u001b[0m\u001b[0;34m\u001b[0m\u001b[0;34m\u001b[0m\u001b[0m\n\u001b[0m\u001b[1;32m   1026\u001b[0m                 )\n",
            "\u001b[0;32m/usr/local/lib/python3.7/dist-packages/huggingface_hub/utils/_subprocess.py\u001b[0m in \u001b[0;36mrun_subprocess\u001b[0;34m(command, folder, check, **kwargs)\u001b[0m\n\u001b[1;32m     57\u001b[0m         \u001b[0mcwd\u001b[0m\u001b[0;34m=\u001b[0m\u001b[0mfolder\u001b[0m\u001b[0;34m,\u001b[0m\u001b[0;34m\u001b[0m\u001b[0;34m\u001b[0m\u001b[0m\n\u001b[0;32m---> 58\u001b[0;31m         \u001b[0;34m**\u001b[0m\u001b[0mkwargs\u001b[0m\u001b[0;34m,\u001b[0m\u001b[0;34m\u001b[0m\u001b[0;34m\u001b[0m\u001b[0m\n\u001b[0m\u001b[1;32m     59\u001b[0m     )\n",
            "\u001b[0;32m/usr/lib/python3.7/subprocess.py\u001b[0m in \u001b[0;36mrun\u001b[0;34m(input, capture_output, timeout, check, *popenargs, **kwargs)\u001b[0m\n\u001b[1;32m    511\u001b[0m             raise CalledProcessError(retcode, process.args,\n\u001b[0;32m--> 512\u001b[0;31m                                      output=stdout, stderr=stderr)\n\u001b[0m\u001b[1;32m    513\u001b[0m     \u001b[0;32mreturn\u001b[0m \u001b[0mCompletedProcess\u001b[0m\u001b[0;34m(\u001b[0m\u001b[0mprocess\u001b[0m\u001b[0;34m.\u001b[0m\u001b[0margs\u001b[0m\u001b[0;34m,\u001b[0m \u001b[0mretcode\u001b[0m\u001b[0;34m,\u001b[0m \u001b[0mstdout\u001b[0m\u001b[0;34m,\u001b[0m \u001b[0mstderr\u001b[0m\u001b[0;34m)\u001b[0m\u001b[0;34m\u001b[0m\u001b[0;34m\u001b[0m\u001b[0m\n",
            "\u001b[0;31mCalledProcessError\u001b[0m: Command '['git', 'pull', '--rebase']' returned non-zero exit status 128.",
            "\nDuring handling of the above exception, another exception occurred:\n",
            "\u001b[0;31mOSError\u001b[0m                                   Traceback (most recent call last)",
            "\u001b[0;32m<ipython-input-25-736a515262bb>\u001b[0m in \u001b[0;36m<module>\u001b[0;34m()\u001b[0m\n\u001b[1;32m      4\u001b[0m     \u001b[0;34m\"remeajayi/timeseries-anomaly-detection\"\u001b[0m\u001b[0;34m,\u001b[0m\u001b[0;34m\u001b[0m\u001b[0;34m\u001b[0m\u001b[0m\n\u001b[1;32m      5\u001b[0m     \u001b[0mlog_dir\u001b[0m \u001b[0;34m=\u001b[0m \u001b[0;34m\"./logs/fit\"\u001b[0m\u001b[0;34m,\u001b[0m\u001b[0;34m\u001b[0m\u001b[0;34m\u001b[0m\u001b[0m\n\u001b[0;32m----> 6\u001b[0;31m     \u001b[0mtags\u001b[0m \u001b[0;34m=\u001b[0m \u001b[0;34m[\u001b[0m\u001b[0;34m\"structured-data-classification\"\u001b[0m\u001b[0;34m,\u001b[0m \u001b[0;34m\"time-series\"\u001b[0m\u001b[0;34m,\u001b[0m \u001b[0;34m\"anomaly-detection\"\u001b[0m\u001b[0;34m]\u001b[0m\u001b[0;34m\u001b[0m\u001b[0;34m\u001b[0m\u001b[0m\n\u001b[0m\u001b[1;32m      7\u001b[0m )\n",
            "\u001b[0;32m/usr/local/lib/python3.7/dist-packages/huggingface_hub/keras_mixin.py\u001b[0m in \u001b[0;36mpush_to_hub_keras\u001b[0;34m(model, repo_path_or_name, repo_url, log_dir, commit_message, organization, private, api_endpoint, use_auth_token, git_user, git_email, config, include_optimizer, tags, plot_model, **model_save_kwargs)\u001b[0m\n\u001b[1;32m    408\u001b[0m         \u001b[0mgit_email\u001b[0m\u001b[0;34m=\u001b[0m\u001b[0mgit_email\u001b[0m\u001b[0;34m,\u001b[0m\u001b[0;34m\u001b[0m\u001b[0;34m\u001b[0m\u001b[0m\n\u001b[1;32m    409\u001b[0m     )\n\u001b[0;32m--> 410\u001b[0;31m     \u001b[0mrepo\u001b[0m\u001b[0;34m.\u001b[0m\u001b[0mgit_pull\u001b[0m\u001b[0;34m(\u001b[0m\u001b[0mrebase\u001b[0m\u001b[0;34m=\u001b[0m\u001b[0;32mTrue\u001b[0m\u001b[0;34m)\u001b[0m\u001b[0;34m\u001b[0m\u001b[0;34m\u001b[0m\u001b[0m\n\u001b[0m\u001b[1;32m    411\u001b[0m \u001b[0;34m\u001b[0m\u001b[0m\n\u001b[1;32m    412\u001b[0m     save_pretrained_keras(\n",
            "\u001b[0;32m/usr/local/lib/python3.7/dist-packages/huggingface_hub/repository.py\u001b[0m in \u001b[0;36mgit_pull\u001b[0;34m(self, rebase, lfs)\u001b[0m\n\u001b[1;32m   1027\u001b[0m                 \u001b[0mlogger\u001b[0m\u001b[0;34m.\u001b[0m\u001b[0minfo\u001b[0m\u001b[0;34m(\u001b[0m\u001b[0mresult\u001b[0m\u001b[0;34m.\u001b[0m\u001b[0mstdout\u001b[0m\u001b[0;34m)\u001b[0m\u001b[0;34m\u001b[0m\u001b[0;34m\u001b[0m\u001b[0m\n\u001b[1;32m   1028\u001b[0m         \u001b[0;32mexcept\u001b[0m \u001b[0msubprocess\u001b[0m\u001b[0;34m.\u001b[0m\u001b[0mCalledProcessError\u001b[0m \u001b[0;32mas\u001b[0m \u001b[0mexc\u001b[0m\u001b[0;34m:\u001b[0m\u001b[0;34m\u001b[0m\u001b[0;34m\u001b[0m\u001b[0m\n\u001b[0;32m-> 1029\u001b[0;31m             \u001b[0;32mraise\u001b[0m \u001b[0mEnvironmentError\u001b[0m\u001b[0;34m(\u001b[0m\u001b[0mexc\u001b[0m\u001b[0;34m.\u001b[0m\u001b[0mstderr\u001b[0m\u001b[0;34m)\u001b[0m\u001b[0;34m\u001b[0m\u001b[0;34m\u001b[0m\u001b[0m\n\u001b[0m\u001b[1;32m   1030\u001b[0m \u001b[0;34m\u001b[0m\u001b[0m\n\u001b[1;32m   1031\u001b[0m     def git_add(\n",
            "\u001b[0;31mOSError\u001b[0m: error: cannot pull with rebase: You have unstaged changes.\nerror: please commit or stash them.\n"
          ]
        }
      ]
    },
    {
      "cell_type": "code",
      "source": [
        ""
      ],
      "metadata": {
        "id": "-waBZWI0cIcV"
      },
      "execution_count": null,
      "outputs": []
    }
  ],
  "metadata": {
    "colab": {
      "collapsed_sections": [],
      "name": "timeseries_anomaly_detection",
      "provenance": [],
      "toc_visible": true,
      "include_colab_link": true
    },
    "kernelspec": {
      "display_name": "Python 3",
      "language": "python",
      "name": "python3"
    },
    "language_info": {
      "codemirror_mode": {
        "name": "ipython",
        "version": 3
      },
      "file_extension": ".py",
      "mimetype": "text/x-python",
      "name": "python",
      "nbconvert_exporter": "python",
      "pygments_lexer": "ipython3",
      "version": "3.7.0"
    },
    "widgets": {
      "application/vnd.jupyter.widget-state+json": {
        "da8a3f8ff25342439abd3abf8f324c02": {
          "model_module": "@jupyter-widgets/controls",
          "model_name": "VBoxModel",
          "model_module_version": "1.5.0",
          "state": {
            "_dom_classes": [],
            "_model_module": "@jupyter-widgets/controls",
            "_model_module_version": "1.5.0",
            "_model_name": "VBoxModel",
            "_view_count": null,
            "_view_module": "@jupyter-widgets/controls",
            "_view_module_version": "1.5.0",
            "_view_name": "VBoxView",
            "box_style": "",
            "children": [
              "IPY_MODEL_bf4202772a924862b015bd9f01f6f556",
              "IPY_MODEL_d803c9542e5d4802aea1155f158e07e7",
              "IPY_MODEL_f31157c83e994912aff985dd907769ab",
              "IPY_MODEL_c59bab552b254c71a617283f6edc9164",
              "IPY_MODEL_0938a49a8a3a46fb93af2e8d73a535f6"
            ],
            "layout": "IPY_MODEL_6d853a48c3c441eb9cd30fc1f4563e34"
          }
        },
        "bf4202772a924862b015bd9f01f6f556": {
          "model_module": "@jupyter-widgets/controls",
          "model_name": "HTMLModel",
          "model_module_version": "1.5.0",
          "state": {
            "_dom_classes": [],
            "_model_module": "@jupyter-widgets/controls",
            "_model_module_version": "1.5.0",
            "_model_name": "HTMLModel",
            "_view_count": null,
            "_view_module": "@jupyter-widgets/controls",
            "_view_module_version": "1.5.0",
            "_view_name": "HTMLView",
            "description": "",
            "description_tooltip": null,
            "layout": "IPY_MODEL_ab7a6b9ac67c4e21bd403d746b14b94b",
            "placeholder": "​",
            "style": "IPY_MODEL_6e9afbaa54064a799b1025d3cb54a2c4",
            "value": "<center> <img\nsrc=https://huggingface.co/front/assets/huggingface_logo-noborder.svg\nalt='Hugging Face'> <br> Copy a token from <a\nhref=\"https://huggingface.co/settings/tokens\" target=\"_blank\">your Hugging Face\ntokens page</a> and paste it below. <br> Immediately click login after copying\nyour token or it might be stored in plain text in this notebook file. </center>"
          }
        },
        "d803c9542e5d4802aea1155f158e07e7": {
          "model_module": "@jupyter-widgets/controls",
          "model_name": "PasswordModel",
          "model_module_version": "1.5.0",
          "state": {
            "_dom_classes": [],
            "_model_module": "@jupyter-widgets/controls",
            "_model_module_version": "1.5.0",
            "_model_name": "PasswordModel",
            "_view_count": null,
            "_view_module": "@jupyter-widgets/controls",
            "_view_module_version": "1.5.0",
            "_view_name": "PasswordView",
            "continuous_update": true,
            "description": "Token:",
            "description_tooltip": null,
            "disabled": false,
            "layout": "IPY_MODEL_4143d098f05c4ace98db3abe8f05620f",
            "placeholder": "​",
            "style": "IPY_MODEL_ca1cc4f0934942c2a4f21af6603ce863",
            "value": ""
          }
        },
        "f31157c83e994912aff985dd907769ab": {
          "model_module": "@jupyter-widgets/controls",
          "model_name": "ButtonModel",
          "model_module_version": "1.5.0",
          "state": {
            "_dom_classes": [],
            "_model_module": "@jupyter-widgets/controls",
            "_model_module_version": "1.5.0",
            "_model_name": "ButtonModel",
            "_view_count": null,
            "_view_module": "@jupyter-widgets/controls",
            "_view_module_version": "1.5.0",
            "_view_name": "ButtonView",
            "button_style": "",
            "description": "Login",
            "disabled": false,
            "icon": "",
            "layout": "IPY_MODEL_0e6be3cec43f47ac83d5b053c17889be",
            "style": "IPY_MODEL_4cc7d3247da94f81b493a0b1f25bf8ab",
            "tooltip": ""
          }
        },
        "c59bab552b254c71a617283f6edc9164": {
          "model_module": "@jupyter-widgets/controls",
          "model_name": "HTMLModel",
          "model_module_version": "1.5.0",
          "state": {
            "_dom_classes": [],
            "_model_module": "@jupyter-widgets/controls",
            "_model_module_version": "1.5.0",
            "_model_name": "HTMLModel",
            "_view_count": null,
            "_view_module": "@jupyter-widgets/controls",
            "_view_module_version": "1.5.0",
            "_view_name": "HTMLView",
            "description": "",
            "description_tooltip": null,
            "layout": "IPY_MODEL_feae8e1a5a9d4f51a0d41a4997b09e4d",
            "placeholder": "​",
            "style": "IPY_MODEL_65d1aa2f23f64cd19a5e33cc4e2f0499",
            "value": "\n<b>Pro Tip:</b> If you don't already have one, you can create a dedicated\n'notebooks' token with 'write' access, that you can then easily reuse for all\nnotebooks. <br> <i>Logging in with your username and password is deprecated and\nwon't be possible anymore in the near future. You can still use them for now by\nclicking below.</i> </center>"
          }
        },
        "0938a49a8a3a46fb93af2e8d73a535f6": {
          "model_module": "@jupyter-widgets/controls",
          "model_name": "ButtonModel",
          "model_module_version": "1.5.0",
          "state": {
            "_dom_classes": [],
            "_model_module": "@jupyter-widgets/controls",
            "_model_module_version": "1.5.0",
            "_model_name": "ButtonModel",
            "_view_count": null,
            "_view_module": "@jupyter-widgets/controls",
            "_view_module_version": "1.5.0",
            "_view_name": "ButtonView",
            "button_style": "",
            "description": "Use password",
            "disabled": false,
            "icon": "",
            "layout": "IPY_MODEL_2ab3363e47674071ace9e82b52893192",
            "style": "IPY_MODEL_693081a44f074612b952dc1adbe8bac7",
            "tooltip": ""
          }
        },
        "6d853a48c3c441eb9cd30fc1f4563e34": {
          "model_module": "@jupyter-widgets/base",
          "model_name": "LayoutModel",
          "model_module_version": "1.2.0",
          "state": {
            "_model_module": "@jupyter-widgets/base",
            "_model_module_version": "1.2.0",
            "_model_name": "LayoutModel",
            "_view_count": null,
            "_view_module": "@jupyter-widgets/base",
            "_view_module_version": "1.2.0",
            "_view_name": "LayoutView",
            "align_content": null,
            "align_items": "center",
            "align_self": null,
            "border": null,
            "bottom": null,
            "display": "flex",
            "flex": null,
            "flex_flow": "column",
            "grid_area": null,
            "grid_auto_columns": null,
            "grid_auto_flow": null,
            "grid_auto_rows": null,
            "grid_column": null,
            "grid_gap": null,
            "grid_row": null,
            "grid_template_areas": null,
            "grid_template_columns": null,
            "grid_template_rows": null,
            "height": null,
            "justify_content": null,
            "justify_items": null,
            "left": null,
            "margin": null,
            "max_height": null,
            "max_width": null,
            "min_height": null,
            "min_width": null,
            "object_fit": null,
            "object_position": null,
            "order": null,
            "overflow": null,
            "overflow_x": null,
            "overflow_y": null,
            "padding": null,
            "right": null,
            "top": null,
            "visibility": null,
            "width": "50%"
          }
        },
        "ab7a6b9ac67c4e21bd403d746b14b94b": {
          "model_module": "@jupyter-widgets/base",
          "model_name": "LayoutModel",
          "model_module_version": "1.2.0",
          "state": {
            "_model_module": "@jupyter-widgets/base",
            "_model_module_version": "1.2.0",
            "_model_name": "LayoutModel",
            "_view_count": null,
            "_view_module": "@jupyter-widgets/base",
            "_view_module_version": "1.2.0",
            "_view_name": "LayoutView",
            "align_content": null,
            "align_items": null,
            "align_self": null,
            "border": null,
            "bottom": null,
            "display": null,
            "flex": null,
            "flex_flow": null,
            "grid_area": null,
            "grid_auto_columns": null,
            "grid_auto_flow": null,
            "grid_auto_rows": null,
            "grid_column": null,
            "grid_gap": null,
            "grid_row": null,
            "grid_template_areas": null,
            "grid_template_columns": null,
            "grid_template_rows": null,
            "height": null,
            "justify_content": null,
            "justify_items": null,
            "left": null,
            "margin": null,
            "max_height": null,
            "max_width": null,
            "min_height": null,
            "min_width": null,
            "object_fit": null,
            "object_position": null,
            "order": null,
            "overflow": null,
            "overflow_x": null,
            "overflow_y": null,
            "padding": null,
            "right": null,
            "top": null,
            "visibility": null,
            "width": null
          }
        },
        "6e9afbaa54064a799b1025d3cb54a2c4": {
          "model_module": "@jupyter-widgets/controls",
          "model_name": "DescriptionStyleModel",
          "model_module_version": "1.5.0",
          "state": {
            "_model_module": "@jupyter-widgets/controls",
            "_model_module_version": "1.5.0",
            "_model_name": "DescriptionStyleModel",
            "_view_count": null,
            "_view_module": "@jupyter-widgets/base",
            "_view_module_version": "1.2.0",
            "_view_name": "StyleView",
            "description_width": ""
          }
        },
        "4143d098f05c4ace98db3abe8f05620f": {
          "model_module": "@jupyter-widgets/base",
          "model_name": "LayoutModel",
          "model_module_version": "1.2.0",
          "state": {
            "_model_module": "@jupyter-widgets/base",
            "_model_module_version": "1.2.0",
            "_model_name": "LayoutModel",
            "_view_count": null,
            "_view_module": "@jupyter-widgets/base",
            "_view_module_version": "1.2.0",
            "_view_name": "LayoutView",
            "align_content": null,
            "align_items": null,
            "align_self": null,
            "border": null,
            "bottom": null,
            "display": null,
            "flex": null,
            "flex_flow": null,
            "grid_area": null,
            "grid_auto_columns": null,
            "grid_auto_flow": null,
            "grid_auto_rows": null,
            "grid_column": null,
            "grid_gap": null,
            "grid_row": null,
            "grid_template_areas": null,
            "grid_template_columns": null,
            "grid_template_rows": null,
            "height": null,
            "justify_content": null,
            "justify_items": null,
            "left": null,
            "margin": null,
            "max_height": null,
            "max_width": null,
            "min_height": null,
            "min_width": null,
            "object_fit": null,
            "object_position": null,
            "order": null,
            "overflow": null,
            "overflow_x": null,
            "overflow_y": null,
            "padding": null,
            "right": null,
            "top": null,
            "visibility": null,
            "width": null
          }
        },
        "ca1cc4f0934942c2a4f21af6603ce863": {
          "model_module": "@jupyter-widgets/controls",
          "model_name": "DescriptionStyleModel",
          "model_module_version": "1.5.0",
          "state": {
            "_model_module": "@jupyter-widgets/controls",
            "_model_module_version": "1.5.0",
            "_model_name": "DescriptionStyleModel",
            "_view_count": null,
            "_view_module": "@jupyter-widgets/base",
            "_view_module_version": "1.2.0",
            "_view_name": "StyleView",
            "description_width": ""
          }
        },
        "0e6be3cec43f47ac83d5b053c17889be": {
          "model_module": "@jupyter-widgets/base",
          "model_name": "LayoutModel",
          "model_module_version": "1.2.0",
          "state": {
            "_model_module": "@jupyter-widgets/base",
            "_model_module_version": "1.2.0",
            "_model_name": "LayoutModel",
            "_view_count": null,
            "_view_module": "@jupyter-widgets/base",
            "_view_module_version": "1.2.0",
            "_view_name": "LayoutView",
            "align_content": null,
            "align_items": null,
            "align_self": null,
            "border": null,
            "bottom": null,
            "display": null,
            "flex": null,
            "flex_flow": null,
            "grid_area": null,
            "grid_auto_columns": null,
            "grid_auto_flow": null,
            "grid_auto_rows": null,
            "grid_column": null,
            "grid_gap": null,
            "grid_row": null,
            "grid_template_areas": null,
            "grid_template_columns": null,
            "grid_template_rows": null,
            "height": null,
            "justify_content": null,
            "justify_items": null,
            "left": null,
            "margin": null,
            "max_height": null,
            "max_width": null,
            "min_height": null,
            "min_width": null,
            "object_fit": null,
            "object_position": null,
            "order": null,
            "overflow": null,
            "overflow_x": null,
            "overflow_y": null,
            "padding": null,
            "right": null,
            "top": null,
            "visibility": null,
            "width": null
          }
        },
        "4cc7d3247da94f81b493a0b1f25bf8ab": {
          "model_module": "@jupyter-widgets/controls",
          "model_name": "ButtonStyleModel",
          "model_module_version": "1.5.0",
          "state": {
            "_model_module": "@jupyter-widgets/controls",
            "_model_module_version": "1.5.0",
            "_model_name": "ButtonStyleModel",
            "_view_count": null,
            "_view_module": "@jupyter-widgets/base",
            "_view_module_version": "1.2.0",
            "_view_name": "StyleView",
            "button_color": null,
            "font_weight": ""
          }
        },
        "feae8e1a5a9d4f51a0d41a4997b09e4d": {
          "model_module": "@jupyter-widgets/base",
          "model_name": "LayoutModel",
          "model_module_version": "1.2.0",
          "state": {
            "_model_module": "@jupyter-widgets/base",
            "_model_module_version": "1.2.0",
            "_model_name": "LayoutModel",
            "_view_count": null,
            "_view_module": "@jupyter-widgets/base",
            "_view_module_version": "1.2.0",
            "_view_name": "LayoutView",
            "align_content": null,
            "align_items": null,
            "align_self": null,
            "border": null,
            "bottom": null,
            "display": null,
            "flex": null,
            "flex_flow": null,
            "grid_area": null,
            "grid_auto_columns": null,
            "grid_auto_flow": null,
            "grid_auto_rows": null,
            "grid_column": null,
            "grid_gap": null,
            "grid_row": null,
            "grid_template_areas": null,
            "grid_template_columns": null,
            "grid_template_rows": null,
            "height": null,
            "justify_content": null,
            "justify_items": null,
            "left": null,
            "margin": null,
            "max_height": null,
            "max_width": null,
            "min_height": null,
            "min_width": null,
            "object_fit": null,
            "object_position": null,
            "order": null,
            "overflow": null,
            "overflow_x": null,
            "overflow_y": null,
            "padding": null,
            "right": null,
            "top": null,
            "visibility": null,
            "width": null
          }
        },
        "65d1aa2f23f64cd19a5e33cc4e2f0499": {
          "model_module": "@jupyter-widgets/controls",
          "model_name": "DescriptionStyleModel",
          "model_module_version": "1.5.0",
          "state": {
            "_model_module": "@jupyter-widgets/controls",
            "_model_module_version": "1.5.0",
            "_model_name": "DescriptionStyleModel",
            "_view_count": null,
            "_view_module": "@jupyter-widgets/base",
            "_view_module_version": "1.2.0",
            "_view_name": "StyleView",
            "description_width": ""
          }
        },
        "2ab3363e47674071ace9e82b52893192": {
          "model_module": "@jupyter-widgets/base",
          "model_name": "LayoutModel",
          "model_module_version": "1.2.0",
          "state": {
            "_model_module": "@jupyter-widgets/base",
            "_model_module_version": "1.2.0",
            "_model_name": "LayoutModel",
            "_view_count": null,
            "_view_module": "@jupyter-widgets/base",
            "_view_module_version": "1.2.0",
            "_view_name": "LayoutView",
            "align_content": null,
            "align_items": null,
            "align_self": null,
            "border": null,
            "bottom": null,
            "display": null,
            "flex": null,
            "flex_flow": null,
            "grid_area": null,
            "grid_auto_columns": null,
            "grid_auto_flow": null,
            "grid_auto_rows": null,
            "grid_column": null,
            "grid_gap": null,
            "grid_row": null,
            "grid_template_areas": null,
            "grid_template_columns": null,
            "grid_template_rows": null,
            "height": null,
            "justify_content": null,
            "justify_items": null,
            "left": null,
            "margin": null,
            "max_height": null,
            "max_width": null,
            "min_height": null,
            "min_width": null,
            "object_fit": null,
            "object_position": null,
            "order": null,
            "overflow": null,
            "overflow_x": null,
            "overflow_y": null,
            "padding": null,
            "right": null,
            "top": null,
            "visibility": null,
            "width": null
          }
        },
        "693081a44f074612b952dc1adbe8bac7": {
          "model_module": "@jupyter-widgets/controls",
          "model_name": "ButtonStyleModel",
          "model_module_version": "1.5.0",
          "state": {
            "_model_module": "@jupyter-widgets/controls",
            "_model_module_version": "1.5.0",
            "_model_name": "ButtonStyleModel",
            "_view_count": null,
            "_view_module": "@jupyter-widgets/base",
            "_view_module_version": "1.2.0",
            "_view_name": "StyleView",
            "button_color": null,
            "font_weight": ""
          }
        }
      }
    }
  },
  "nbformat": 4,
  "nbformat_minor": 0
}